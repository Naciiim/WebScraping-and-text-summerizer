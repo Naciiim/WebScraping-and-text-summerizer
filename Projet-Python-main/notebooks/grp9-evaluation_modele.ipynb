{
 "cells": [
  {
   "cell_type": "markdown",
   "metadata": {},
   "source": [
    "NOTE: les outputs de ce notebook sont justes à titre d'exemple et ne représentent pas les résultats finaux"
   ]
  },
  {
   "cell_type": "code",
   "execution_count": 3,
   "metadata": {
    "execution": {
     "iopub.execute_input": "2023-05-18T15:34:29.141448Z",
     "iopub.status.busy": "2023-05-18T15:34:29.141091Z",
     "iopub.status.idle": "2023-05-18T15:34:38.599070Z",
     "shell.execute_reply": "2023-05-18T15:34:38.597995Z",
     "shell.execute_reply.started": "2023-05-18T15:34:29.141416Z"
    },
    "id": "Bkmy-LzkrdNp"
   },
   "outputs": [
    {
     "name": "stdout",
     "output_type": "stream",
     "text": [
      "Requirement already satisfied: transformers in /opt/conda/lib/python3.10/site-packages (4.28.1)\n",
      "Requirement already satisfied: evaluate in /opt/conda/lib/python3.10/site-packages (0.4.0)\n",
      "Requirement already satisfied: datasets in /opt/conda/lib/python3.10/site-packages (2.1.0)\n",
      "Requirement already satisfied: wget in /opt/conda/lib/python3.10/site-packages (3.2)\n",
      "Requirement already satisfied: textacy in /opt/conda/lib/python3.10/site-packages (0.13.0)\n",
      "Requirement already satisfied: rouge_score in /opt/conda/lib/python3.10/site-packages (0.1.2)\n",
      "Requirement already satisfied: regex!=2019.12.17 in /opt/conda/lib/python3.10/site-packages (from transformers) (2023.3.23)\n",
      "Requirement already satisfied: packaging>=20.0 in /opt/conda/lib/python3.10/site-packages (from transformers) (21.3)\n",
      "Requirement already satisfied: tokenizers!=0.11.3,<0.14,>=0.11.1 in /opt/conda/lib/python3.10/site-packages (from transformers) (0.13.3)\n",
      "Requirement already satisfied: pyyaml>=5.1 in /opt/conda/lib/python3.10/site-packages (from transformers) (6.0)\n",
      "Requirement already satisfied: tqdm>=4.27 in /opt/conda/lib/python3.10/site-packages (from transformers) (4.64.1)\n",
      "Requirement already satisfied: numpy>=1.17 in /opt/conda/lib/python3.10/site-packages (from transformers) (1.23.5)\n",
      "Requirement already satisfied: huggingface-hub<1.0,>=0.11.0 in /opt/conda/lib/python3.10/site-packages (from transformers) (0.13.4)\n",
      "Requirement already satisfied: requests in /opt/conda/lib/python3.10/site-packages (from transformers) (2.28.2)\n",
      "Requirement already satisfied: filelock in /opt/conda/lib/python3.10/site-packages (from transformers) (3.11.0)\n",
      "Requirement already satisfied: fsspec[http]>=2021.05.0 in /opt/conda/lib/python3.10/site-packages (from evaluate) (2023.4.0)\n",
      "Requirement already satisfied: dill in /opt/conda/lib/python3.10/site-packages (from evaluate) (0.3.6)\n",
      "Requirement already satisfied: multiprocess in /opt/conda/lib/python3.10/site-packages (from evaluate) (0.70.14)\n",
      "Requirement already satisfied: xxhash in /opt/conda/lib/python3.10/site-packages (from evaluate) (3.2.0)\n",
      "Requirement already satisfied: responses<0.19 in /opt/conda/lib/python3.10/site-packages (from evaluate) (0.18.0)\n",
      "Requirement already satisfied: pandas in /opt/conda/lib/python3.10/site-packages (from evaluate) (1.5.3)\n",
      "Requirement already satisfied: pyarrow>=5.0.0 in /opt/conda/lib/python3.10/site-packages (from datasets) (9.0.0)\n",
      "Requirement already satisfied: aiohttp in /opt/conda/lib/python3.10/site-packages (from datasets) (3.8.4)\n",
      "Requirement already satisfied: networkx>=2.7 in /opt/conda/lib/python3.10/site-packages (from textacy) (3.1)\n",
      "Requirement already satisfied: cytoolz>=0.10.1 in /opt/conda/lib/python3.10/site-packages (from textacy) (0.12.1)\n",
      "Requirement already satisfied: scikit-learn>=1.0 in /opt/conda/lib/python3.10/site-packages (from textacy) (1.2.2)\n",
      "Requirement already satisfied: catalogue~=2.0 in /opt/conda/lib/python3.10/site-packages (from textacy) (2.0.8)\n",
      "Requirement already satisfied: jellyfish>=0.8.0 in /opt/conda/lib/python3.10/site-packages (from textacy) (0.11.2)\n",
      "Requirement already satisfied: floret~=0.10.0 in /opt/conda/lib/python3.10/site-packages (from textacy) (0.10.3)\n",
      "Requirement already satisfied: joblib>=0.13.0 in /opt/conda/lib/python3.10/site-packages (from textacy) (1.2.0)\n",
      "Requirement already satisfied: pyphen>=0.10.0 in /opt/conda/lib/python3.10/site-packages (from textacy) (0.14.0)\n",
      "Requirement already satisfied: scipy>=1.8.0 in /opt/conda/lib/python3.10/site-packages (from textacy) (1.9.3)\n",
      "Requirement already satisfied: spacy~=3.0 in /opt/conda/lib/python3.10/site-packages (from textacy) (3.5.2)\n",
      "Requirement already satisfied: cachetools>=4.0.0 in /opt/conda/lib/python3.10/site-packages (from textacy) (5.3.0)\n",
      "Requirement already satisfied: nltk in /opt/conda/lib/python3.10/site-packages (from rouge_score) (3.2.4)\n",
      "Requirement already satisfied: six>=1.14.0 in /opt/conda/lib/python3.10/site-packages (from rouge_score) (1.16.0)\n",
      "Requirement already satisfied: absl-py in /opt/conda/lib/python3.10/site-packages (from rouge_score) (1.4.0)\n",
      "Requirement already satisfied: toolz>=0.8.0 in /opt/conda/lib/python3.10/site-packages (from cytoolz>=0.10.1->textacy) (0.12.0)\n",
      "Requirement already satisfied: yarl<2.0,>=1.0 in /opt/conda/lib/python3.10/site-packages (from aiohttp->datasets) (1.8.2)\n",
      "Requirement already satisfied: multidict<7.0,>=4.5 in /opt/conda/lib/python3.10/site-packages (from aiohttp->datasets) (6.0.4)\n",
      "Requirement already satisfied: async-timeout<5.0,>=4.0.0a3 in /opt/conda/lib/python3.10/site-packages (from aiohttp->datasets) (4.0.2)\n",
      "Requirement already satisfied: aiosignal>=1.1.2 in /opt/conda/lib/python3.10/site-packages (from aiohttp->datasets) (1.3.1)\n",
      "Requirement already satisfied: frozenlist>=1.1.1 in /opt/conda/lib/python3.10/site-packages (from aiohttp->datasets) (1.3.3)\n",
      "Requirement already satisfied: charset-normalizer<4.0,>=2.0 in /opt/conda/lib/python3.10/site-packages (from aiohttp->datasets) (2.1.1)\n",
      "Requirement already satisfied: attrs>=17.3.0 in /opt/conda/lib/python3.10/site-packages (from aiohttp->datasets) (22.2.0)\n",
      "Requirement already satisfied: typing-extensions>=3.7.4.3 in /opt/conda/lib/python3.10/site-packages (from huggingface-hub<1.0,>=0.11.0->transformers) (4.5.0)\n",
      "Requirement already satisfied: pyparsing!=3.0.5,>=2.0.2 in /opt/conda/lib/python3.10/site-packages (from packaging>=20.0->transformers) (3.0.9)\n",
      "Requirement already satisfied: certifi>=2017.4.17 in /opt/conda/lib/python3.10/site-packages (from requests->transformers) (2022.12.7)\n",
      "Requirement already satisfied: urllib3<1.27,>=1.21.1 in /opt/conda/lib/python3.10/site-packages (from requests->transformers) (1.26.15)\n",
      "Requirement already satisfied: idna<4,>=2.5 in /opt/conda/lib/python3.10/site-packages (from requests->transformers) (3.4)\n",
      "Requirement already satisfied: threadpoolctl>=2.0.0 in /opt/conda/lib/python3.10/site-packages (from scikit-learn>=1.0->textacy) (3.1.0)\n",
      "Requirement already satisfied: spacy-legacy<3.1.0,>=3.0.11 in /opt/conda/lib/python3.10/site-packages (from spacy~=3.0->textacy) (3.0.12)\n",
      "Requirement already satisfied: cymem<2.1.0,>=2.0.2 in /opt/conda/lib/python3.10/site-packages (from spacy~=3.0->textacy) (2.0.7)\n",
      "Requirement already satisfied: setuptools in /opt/conda/lib/python3.10/site-packages (from spacy~=3.0->textacy) (59.8.0)\n",
      "Requirement already satisfied: langcodes<4.0.0,>=3.2.0 in /opt/conda/lib/python3.10/site-packages (from spacy~=3.0->textacy) (3.3.0)\n",
      "Requirement already satisfied: srsly<3.0.0,>=2.4.3 in /opt/conda/lib/python3.10/site-packages (from spacy~=3.0->textacy) (2.4.6)\n",
      "Requirement already satisfied: typer<0.8.0,>=0.3.0 in /opt/conda/lib/python3.10/site-packages (from spacy~=3.0->textacy) (0.7.0)\n",
      "Requirement already satisfied: pathy>=0.10.0 in /opt/conda/lib/python3.10/site-packages (from spacy~=3.0->textacy) (0.10.1)\n",
      "Requirement already satisfied: jinja2 in /opt/conda/lib/python3.10/site-packages (from spacy~=3.0->textacy) (3.1.2)\n",
      "Requirement already satisfied: murmurhash<1.1.0,>=0.28.0 in /opt/conda/lib/python3.10/site-packages (from spacy~=3.0->textacy) (1.0.9)\n",
      "Requirement already satisfied: pydantic!=1.8,!=1.8.1,<1.11.0,>=1.7.4 in /opt/conda/lib/python3.10/site-packages (from spacy~=3.0->textacy) (1.10.7)\n",
      "Requirement already satisfied: smart-open<7.0.0,>=5.2.1 in /opt/conda/lib/python3.10/site-packages (from spacy~=3.0->textacy) (6.3.0)\n",
      "Requirement already satisfied: spacy-loggers<2.0.0,>=1.0.0 in /opt/conda/lib/python3.10/site-packages (from spacy~=3.0->textacy) (1.0.4)\n",
      "Requirement already satisfied: thinc<8.2.0,>=8.1.8 in /opt/conda/lib/python3.10/site-packages (from spacy~=3.0->textacy) (8.1.9)\n",
      "Requirement already satisfied: wasabi<1.2.0,>=0.9.1 in /opt/conda/lib/python3.10/site-packages (from spacy~=3.0->textacy) (1.1.1)\n",
      "Requirement already satisfied: preshed<3.1.0,>=3.0.2 in /opt/conda/lib/python3.10/site-packages (from spacy~=3.0->textacy) (3.0.8)\n",
      "Requirement already satisfied: python-dateutil>=2.8.1 in /opt/conda/lib/python3.10/site-packages (from pandas->evaluate) (2.8.2)\n",
      "Requirement already satisfied: pytz>=2020.1 in /opt/conda/lib/python3.10/site-packages (from pandas->evaluate) (2023.3)\n",
      "Requirement already satisfied: confection<1.0.0,>=0.0.1 in /opt/conda/lib/python3.10/site-packages (from thinc<8.2.0,>=8.1.8->spacy~=3.0->textacy) (0.0.4)\n",
      "Requirement already satisfied: blis<0.8.0,>=0.7.8 in /opt/conda/lib/python3.10/site-packages (from thinc<8.2.0,>=8.1.8->spacy~=3.0->textacy) (0.7.9)\n",
      "Requirement already satisfied: click<9.0.0,>=7.1.1 in /opt/conda/lib/python3.10/site-packages (from typer<0.8.0,>=0.3.0->spacy~=3.0->textacy) (8.1.3)\n",
      "Requirement already satisfied: MarkupSafe>=2.0 in /opt/conda/lib/python3.10/site-packages (from jinja2->spacy~=3.0->textacy) (2.1.2)\n",
      "\u001b[33mWARNING: Running pip as the 'root' user can result in broken permissions and conflicting behaviour with the system package manager. It is recommended to use a virtual environment instead: https://pip.pypa.io/warnings/venv\u001b[0m\u001b[33m\n",
      "\u001b[0m"
     ]
    }
   ],
   "source": [
    "!pip install transformers evaluate datasets wget textacy rouge_score"
   ]
  },
  {
   "cell_type": "code",
   "execution_count": 4,
   "metadata": {
    "execution": {
     "iopub.execute_input": "2023-05-18T15:34:42.964521Z",
     "iopub.status.busy": "2023-05-18T15:34:42.964138Z",
     "iopub.status.idle": "2023-05-18T15:34:43.267727Z",
     "shell.execute_reply": "2023-05-18T15:34:43.266957Z",
     "shell.execute_reply.started": "2023-05-18T15:34:42.964493Z"
    }
   },
   "outputs": [
    {
     "name": "stdout",
     "output_type": "stream",
     "text": [
      "__notebook_source__.ipynb  newsroom-release.tarm_koenag.tmp\n"
     ]
    }
   ],
   "source": [
    "!ls"
   ]
  },
  {
   "cell_type": "code",
   "execution_count": 5,
   "metadata": {
    "execution": {
     "iopub.execute_input": "2023-05-18T15:34:43.270056Z",
     "iopub.status.busy": "2023-05-18T15:34:43.269571Z",
     "iopub.status.idle": "2023-05-18T15:36:19.763163Z",
     "shell.execute_reply": "2023-05-18T15:36:19.762032Z",
     "shell.execute_reply.started": "2023-05-18T15:34:43.270028Z"
    },
    "id": "T6jFaxlDr4E1"
   },
   "outputs": [
    {
     "name": "stdout",
     "output_type": "stream",
     "text": [
      "* Downloading Dataset\n",
      "\n",
      "* Unzipping dataset\n",
      "release/\n",
      "release/dev.jsonl.gz\n",
      "release/test.jsonl.gz\n",
      "release/train.jsonl.gz\n",
      "\n",
      "* Unzipping release files\n",
      "\n",
      "++ Done\n"
     ]
    }
   ],
   "source": [
    "import os\n",
    "from wget import download\n",
    "\n",
    "if \"release\" not in os.listdir():\n",
    "    \n",
    "    #downloading dataset\n",
    "    if \"newsroom-release.tar\" not in os.listdir():\n",
    "        print(\"* Downloading Dataset\")\n",
    "        download(\"https://lil.nlp.cornell.edu/resources/newsroom/r8625bda324/newsroom-release.tar\")\n",
    "    \n",
    "    #unzipping tar file\n",
    "    print(\"\\n* Unzipping dataset\")\n",
    "    os.system(\"tar xvf newsroom-release.tar\")\n",
    "#unzipping gz archives\n",
    "if \"test.jsonl\" not in os.listdir(\"release\"):\n",
    "    print(\"\\n* Unzipping release files\")\n",
    "    os.system(\"gzip -d release/test.jsonl.gz\")\n",
    "    # os.system(\"gzip -d release/train.jsonl.gz\")\n",
    "    # os.system(\"gzip -d release/dev.jsonl.gz\")\n",
    "    print(\"\\n++ Done\")"
   ]
  },
  {
   "cell_type": "code",
   "execution_count": 6,
   "metadata": {
    "execution": {
     "iopub.execute_input": "2023-05-18T15:36:19.765060Z",
     "iopub.status.busy": "2023-05-18T15:36:19.764542Z",
     "iopub.status.idle": "2023-05-18T15:36:20.657361Z",
     "shell.execute_reply": "2023-05-18T15:36:20.651547Z",
     "shell.execute_reply.started": "2023-05-18T15:36:19.765019Z"
    },
    "id": "wOqL9g61sCON",
    "outputId": "c9385784-0e2f-43ff-ac86-5cb3fad1407b"
   },
   "outputs": [],
   "source": [
    "!rm  newsroom-release.tar"
   ]
  },
  {
   "cell_type": "code",
   "execution_count": 7,
   "metadata": {
    "execution": {
     "iopub.execute_input": "2023-05-18T15:36:20.670982Z",
     "iopub.status.busy": "2023-05-18T15:36:20.668830Z",
     "iopub.status.idle": "2023-05-18T15:36:44.793169Z",
     "shell.execute_reply": "2023-05-18T15:36:44.790950Z",
     "shell.execute_reply.started": "2023-05-18T15:36:20.670762Z"
    },
    "id": "XH6ub1uQrhIS"
   },
   "outputs": [
    {
     "name": "stderr",
     "output_type": "stream",
     "text": [
      "/opt/conda/lib/python3.10/site-packages/scipy/__init__.py:146: UserWarning: A NumPy version >=1.16.5 and <1.23.0 is required for this version of SciPy (detected version 1.23.5\n",
      "  warnings.warn(f\"A NumPy version >={np_minversion} and <{np_maxversion}\"\n"
     ]
    }
   ],
   "source": [
    "from evaluate import evaluator,visualization,push_to_hub\n",
    "from datasets import Dataset\n",
    "from transformers import BartForConditionalGeneration,BartTokenizerFast\n",
    "from textacy import preprocessing\n",
    "from functools import partial\n",
    "import matplotlib.pyplot as plt\n",
    "\n",
    "model_checkpoint = \"Yahiael1/mymodel_final_v2\""
   ]
  },
  {
   "cell_type": "code",
   "execution_count": 8,
   "metadata": {
    "execution": {
     "iopub.execute_input": "2023-05-18T15:36:44.795495Z",
     "iopub.status.busy": "2023-05-18T15:36:44.795099Z",
     "iopub.status.idle": "2023-05-18T15:37:13.061991Z",
     "shell.execute_reply": "2023-05-18T15:37:13.061023Z",
     "shell.execute_reply.started": "2023-05-18T15:36:44.795456Z"
    },
    "id": "ablVEnOrxNur"
   },
   "outputs": [
    {
     "data": {
      "application/vnd.jupyter.widget-view+json": {
       "model_id": "db9f01e2a2624ad48ca513f7c3004ed6",
       "version_major": 2,
       "version_minor": 0
      },
      "text/plain": [
       "Downloading (…)lve/main/config.json:   0%|          | 0.00/1.74k [00:00<?, ?B/s]"
      ]
     },
     "metadata": {},
     "output_type": "display_data"
    },
    {
     "data": {
      "application/vnd.jupyter.widget-view+json": {
       "model_id": "7c9a7edbe8c944318512e12bdd7106ab",
       "version_major": 2,
       "version_minor": 0
      },
      "text/plain": [
       "Downloading pytorch_model.bin:   0%|          | 0.00/558M [00:00<?, ?B/s]"
      ]
     },
     "metadata": {},
     "output_type": "display_data"
    },
    {
     "data": {
      "application/vnd.jupyter.widget-view+json": {
       "model_id": "cdc4161b574b4ef886c0670aff7adaeb",
       "version_major": 2,
       "version_minor": 0
      },
      "text/plain": [
       "Downloading (…)okenizer_config.json:   0%|          | 0.00/349 [00:00<?, ?B/s]"
      ]
     },
     "metadata": {},
     "output_type": "display_data"
    },
    {
     "data": {
      "application/vnd.jupyter.widget-view+json": {
       "model_id": "7edeffb2d44746ba8d1c901a6d4f499f",
       "version_major": 2,
       "version_minor": 0
      },
      "text/plain": [
       "Downloading (…)olve/main/vocab.json:   0%|          | 0.00/798k [00:00<?, ?B/s]"
      ]
     },
     "metadata": {},
     "output_type": "display_data"
    },
    {
     "data": {
      "application/vnd.jupyter.widget-view+json": {
       "model_id": "cde2997caf2948f9b76bb8e89ccd956c",
       "version_major": 2,
       "version_minor": 0
      },
      "text/plain": [
       "Downloading (…)olve/main/merges.txt:   0%|          | 0.00/456k [00:00<?, ?B/s]"
      ]
     },
     "metadata": {},
     "output_type": "display_data"
    },
    {
     "data": {
      "application/vnd.jupyter.widget-view+json": {
       "model_id": "21c6717a52754298b98e22ac6e8b352e",
       "version_major": 2,
       "version_minor": 0
      },
      "text/plain": [
       "Downloading (…)/main/tokenizer.json:   0%|          | 0.00/2.11M [00:00<?, ?B/s]"
      ]
     },
     "metadata": {},
     "output_type": "display_data"
    },
    {
     "data": {
      "application/vnd.jupyter.widget-view+json": {
       "model_id": "a96671aa9df84b15b84134fc58759995",
       "version_major": 2,
       "version_minor": 0
      },
      "text/plain": [
       "Downloading (…)cial_tokens_map.json:   0%|          | 0.00/280 [00:00<?, ?B/s]"
      ]
     },
     "metadata": {},
     "output_type": "display_data"
    }
   ],
   "source": [
    "model = BartForConditionalGeneration.from_pretrained(model_checkpoint)\n",
    "tokenizer = BartTokenizerFast.from_pretrained(model_checkpoint)"
   ]
  },
  {
   "cell_type": "code",
   "execution_count": 9,
   "metadata": {
    "execution": {
     "iopub.execute_input": "2023-05-18T15:37:13.064087Z",
     "iopub.status.busy": "2023-05-18T15:37:13.063576Z",
     "iopub.status.idle": "2023-05-18T15:37:13.096730Z",
     "shell.execute_reply": "2023-05-18T15:37:13.095647Z",
     "shell.execute_reply.started": "2023-05-18T15:37:13.064056Z"
    },
    "id": "vNoNk6bjuRB_"
   },
   "outputs": [],
   "source": [
    "import pandas as pd\n",
    "\n",
    "df_test = pd.read_json(r'release/test.jsonl', lines=True,keep_default_dates=False,nrows=10000)"
   ]
  },
  {
   "cell_type": "code",
   "execution_count": 10,
   "metadata": {
    "execution": {
     "iopub.execute_input": "2023-05-18T15:37:13.099947Z",
     "iopub.status.busy": "2023-05-18T15:37:13.099493Z",
     "iopub.status.idle": "2023-05-18T15:37:13.114071Z",
     "shell.execute_reply": "2023-05-18T15:37:13.112008Z",
     "shell.execute_reply.started": "2023-05-18T15:37:13.099913Z"
    },
    "id": "oJp3OoOzvpG5"
   },
   "outputs": [],
   "source": [
    "df_test = df_test[[\"text\",\"summary\"]] # remove unnecessary columns"
   ]
  },
  {
   "cell_type": "code",
   "execution_count": 11,
   "metadata": {
    "execution": {
     "iopub.execute_input": "2023-05-18T15:37:13.116426Z",
     "iopub.status.busy": "2023-05-18T15:37:13.116053Z",
     "iopub.status.idle": "2023-05-18T15:37:13.163806Z",
     "shell.execute_reply": "2023-05-18T15:37:13.162680Z",
     "shell.execute_reply.started": "2023-05-18T15:37:13.116375Z"
    },
    "id": "3_w3cB1Av61K"
   },
   "outputs": [],
   "source": [
    "test_dataset = Dataset.from_pandas(df_test)"
   ]
  },
  {
   "cell_type": "code",
   "execution_count": 12,
   "metadata": {
    "execution": {
     "iopub.execute_input": "2023-05-18T15:37:13.165877Z",
     "iopub.status.busy": "2023-05-18T15:37:13.165383Z",
     "iopub.status.idle": "2023-05-18T15:37:13.262065Z",
     "shell.execute_reply": "2023-05-18T15:37:13.260333Z",
     "shell.execute_reply.started": "2023-05-18T15:37:13.165852Z"
    },
    "id": "Dc1sCKTbwLVd",
    "outputId": "150d065c-9a0f-4e13-b285-2a6950077c5b"
   },
   "outputs": [
    {
     "data": {
      "application/vnd.jupyter.widget-view+json": {
       "model_id": "86d85d4b9d8d4daf86bf03f860d3331d",
       "version_major": 2,
       "version_minor": 0
      },
      "text/plain": [
       "  0%|          | 0/1 [00:00<?, ?ba/s]"
      ]
     },
     "metadata": {},
     "output_type": "display_data"
    }
   ],
   "source": [
    "# cleaning the dataset\n",
    "\n",
    "preproc = preprocessing.make_pipeline( # cleaning pipeline\n",
    "  partial(preprocessing.replace.urls, repl=\"\"),\n",
    "  preprocessing.normalize.bullet_points,\n",
    "  preprocessing.normalize.hyphenated_words,\n",
    "  preprocessing.normalize.quotation_marks,\n",
    "  preprocessing.normalize.unicode,\n",
    "  preprocessing.normalize.whitespace,\n",
    "  preprocessing.remove.accents,\n",
    "  preprocessing.remove.brackets,\n",
    "  preprocessing.remove.html_tags,\n",
    "  partial(preprocessing.replace.emails, repl=\"\"),\n",
    "  partial(preprocessing.replace.emojis, repl=\"\"),\n",
    "  partial(preprocessing.replace.hashtags, repl=\"\"),\n",
    "  )\n",
    "\n",
    "def batch_clean(examples):\n",
    "  for i in range(len(examples)):\n",
    "    examples[\"text\"][i] = preproc(examples[\"text\"][i])\n",
    "    examples[\"summary\"][i] = preproc(examples[\"summary\"][i])\n",
    "  return examples\n",
    "\n",
    "test_dataset = test_dataset.map(batch_clean,batched=True)"
   ]
  },
  {
   "cell_type": "code",
   "execution_count": 13,
   "metadata": {
    "execution": {
     "iopub.execute_input": "2023-05-18T15:37:13.265756Z",
     "iopub.status.busy": "2023-05-18T15:37:13.265449Z",
     "iopub.status.idle": "2023-05-18T15:37:13.271345Z",
     "shell.execute_reply": "2023-05-18T15:37:13.270250Z",
     "shell.execute_reply.started": "2023-05-18T15:37:13.265734Z"
    },
    "id": "9mxai5MZtfPn"
   },
   "outputs": [],
   "source": [
    "eval = evaluator( task = 'summarization') # metric is rouge by default"
   ]
  },
  {
   "cell_type": "code",
   "execution_count": 14,
   "metadata": {
    "execution": {
     "iopub.execute_input": "2023-05-18T15:37:13.272649Z",
     "iopub.status.busy": "2023-05-18T15:37:13.272363Z",
     "iopub.status.idle": "2023-05-18T15:37:13.289616Z",
     "shell.execute_reply": "2023-05-18T15:37:13.287528Z",
     "shell.execute_reply.started": "2023-05-18T15:37:13.272626Z"
    },
    "id": "LrQCmNlNxGZF",
    "outputId": "1c99eb36-ca4b-448a-db68-13cc5b542445"
   },
   "outputs": [
    {
     "name": "stdout",
     "output_type": "stream",
     "text": [
      "{'task': 'summarization', 'default_metric_name': 'rouge'}\n"
     ]
    }
   ],
   "source": [
    "print(vars(eval))"
   ]
  },
  {
   "cell_type": "code",
   "execution_count": 15,
   "metadata": {
    "execution": {
     "iopub.execute_input": "2023-05-18T15:37:13.292299Z",
     "iopub.status.busy": "2023-05-18T15:37:13.291940Z",
     "iopub.status.idle": "2023-05-18T15:37:13.302316Z",
     "shell.execute_reply": "2023-05-18T15:37:13.301250Z",
     "shell.execute_reply.started": "2023-05-18T15:37:13.292276Z"
    },
    "id": "oBkNFRrxyIwm"
   },
   "outputs": [],
   "source": [
    "# checking if columns are present\n",
    "eval.check_required_columns(data = test_dataset,columns_names = {'input_column' : 'text', 'label_column' : 'summary'})"
   ]
  },
  {
   "cell_type": "code",
   "execution_count": 16,
   "metadata": {
    "execution": {
     "iopub.execute_input": "2023-05-18T15:37:13.304430Z",
     "iopub.status.busy": "2023-05-18T15:37:13.304037Z",
     "iopub.status.idle": "2023-05-18T15:38:30.380902Z",
     "shell.execute_reply": "2023-05-18T15:38:30.379823Z",
     "shell.execute_reply.started": "2023-05-18T15:37:13.304361Z"
    },
    "id": "qfsS2SIitvc3",
    "outputId": "8fa2687c-c1c3-4c7d-818c-b393593c96a0"
   },
   "outputs": [
    {
     "data": {
      "application/vnd.jupyter.widget-view+json": {
       "model_id": "738bdbcea94a444388ececc5517f00d0",
       "version_major": 2,
       "version_minor": 0
      },
      "text/plain": [
       "Downloading builder script:   0%|          | 0.00/6.27k [00:00<?, ?B/s]"
      ]
     },
     "metadata": {},
     "output_type": "display_data"
    },
    {
     "name": "stderr",
     "output_type": "stream",
     "text": [
      "/opt/conda/lib/python3.10/site-packages/transformers/generation/utils.py:1219: UserWarning: You have modified the pretrained model configuration to control generation. This is a deprecated strategy to control generation and will be removed soon, in a future version. Please use a generation configuration file (see https://huggingface.co/docs/transformers/main_classes/text_generation)\n",
      "  warnings.warn(\n",
      "Your max_length is set to 128, but you input_length is only 74. You might consider decreasing max_length manually, e.g. summarizer('...', max_length=37)\n",
      "Your max_length is set to 128, but you input_length is only 67. You might consider decreasing max_length manually, e.g. summarizer('...', max_length=33)\n"
     ]
    }
   ],
   "source": [
    "results = eval.compute(model_or_pipeline=model,\n",
    "             data = test_dataset,\n",
    "             metric = 'rouge',\n",
    "             tokenizer = tokenizer,\n",
    "             input_column = 'text',\n",
    "             label_column = 'summary'\n",
    "             )"
   ]
  },
  {
   "cell_type": "code",
   "execution_count": 17,
   "metadata": {
    "execution": {
     "iopub.execute_input": "2023-05-18T15:38:30.383322Z",
     "iopub.status.busy": "2023-05-18T15:38:30.382023Z",
     "iopub.status.idle": "2023-05-18T15:38:30.390348Z",
     "shell.execute_reply": "2023-05-18T15:38:30.388490Z",
     "shell.execute_reply.started": "2023-05-18T15:38:30.383262Z"
    },
    "id": "McwlA3sa1YMW",
    "outputId": "74c95e43-571b-4387-ef79-897487583974"
   },
   "outputs": [
    {
     "name": "stdout",
     "output_type": "stream",
     "text": [
      "{'rouge1': 0.4598138564725939, 'rouge2': 0.36707135010626196, 'rougeL': 0.43242902398940225, 'rougeLsum': 0.4315330683468712, 'total_time_in_seconds': 75.46245773999999, 'samples_per_second': 0.13251622461667256, 'latency_in_seconds': 7.546245773999999}\n"
     ]
    }
   ],
   "source": [
    "print(results)"
   ]
  },
  {
   "cell_type": "code",
   "execution_count": 19,
   "metadata": {
    "execution": {
     "iopub.execute_input": "2023-05-18T15:38:31.382628Z",
     "iopub.status.busy": "2023-05-18T15:38:31.381354Z",
     "iopub.status.idle": "2023-05-18T15:38:32.315042Z",
     "shell.execute_reply": "2023-05-18T15:38:32.312616Z",
     "shell.execute_reply.started": "2023-05-18T15:38:31.382566Z"
    }
   },
   "outputs": [
    {
     "name": "stdout",
     "output_type": "stream",
     "text": [
      "Token will not been saved to git credential helper. Pass `add_to_git_credential=True` if you want to set the git credential as well.\n",
      "Token is valid.\n",
      "Your token has been saved to /root/.cache/huggingface/token\n",
      "Login successful\n"
     ]
    }
   ],
   "source": [
    "!huggingface-cli login --token # token ici"
   ]
  },
  {
   "cell_type": "code",
   "execution_count": 20,
   "metadata": {
    "execution": {
     "iopub.execute_input": "2023-05-18T15:38:32.318075Z",
     "iopub.status.busy": "2023-05-18T15:38:32.317474Z",
     "iopub.status.idle": "2023-05-18T15:38:33.759142Z",
     "shell.execute_reply": "2023-05-18T15:38:33.757678Z",
     "shell.execute_reply.started": "2023-05-18T15:38:32.318036Z"
    }
   },
   "outputs": [
    {
     "data": {
      "application/vnd.jupyter.widget-view+json": {
       "model_id": "8beb67ce6d5940b4812c4794aadaea5a",
       "version_major": 2,
       "version_minor": 0
      },
      "text/plain": [
       "Downloading (…)solve/main/README.md:   0%|          | 0.00/5.44k [00:00<?, ?B/s]"
      ]
     },
     "metadata": {},
     "output_type": "display_data"
    },
    {
     "data": {
      "text/plain": [
       "'https://huggingface.co/Yahiael1/mymodel_final_v2/blob/main/README.md'"
      ]
     },
     "execution_count": 20,
     "metadata": {},
     "output_type": "execute_result"
    }
   ],
   "source": [
    "# upload les resultats sur huggingface\n",
    "push_to_hub(\n",
    "  model_id=model_checkpoint,  # model repository on hub\n",
    "  metric_value=float(results[\"rouge1\"]),                       # metric value\n",
    "  metric_type=\"rouge1\",                     # metric name, e.g. accuracy.name\n",
    "  metric_name=\"rouge1\",                     # pretty name which is displayed\n",
    "  dataset_type=\"newsroom\",                # dataset name on the hub\n",
    "  dataset_name=\"newsroom\",                # pretty name\n",
    "  dataset_split=\"test\",                   # dataset split used\n",
    "  task_type=\"summarization\",            # task id, see https://github.com/huggingface/datasets/blob/master/src/datasets/utils/resources/tasks.json\n",
    "  task_name=\"summarization\",             # pretty name for task\n",
    "  overwrite=True\n",
    ")"
   ]
  },
  {
   "cell_type": "code",
   "execution_count": 21,
   "metadata": {
    "execution": {
     "iopub.execute_input": "2023-05-18T15:38:33.761236Z",
     "iopub.status.busy": "2023-05-18T15:38:33.760691Z",
     "iopub.status.idle": "2023-05-18T15:38:34.932886Z",
     "shell.execute_reply": "2023-05-18T15:38:34.931266Z",
     "shell.execute_reply.started": "2023-05-18T15:38:33.761208Z"
    }
   },
   "outputs": [
    {
     "data": {
      "application/vnd.jupyter.widget-view+json": {
       "model_id": "a445c6f483764236aa3afec50a59176c",
       "version_major": 2,
       "version_minor": 0
      },
      "text/plain": [
       "Downloading (…)solve/main/README.md:   0%|          | 0.00/5.44k [00:00<?, ?B/s]"
      ]
     },
     "metadata": {},
     "output_type": "display_data"
    },
    {
     "data": {
      "text/plain": [
       "'https://huggingface.co/Yahiael1/mymodel_final_v2/blob/main/README.md'"
      ]
     },
     "execution_count": 21,
     "metadata": {},
     "output_type": "execute_result"
    }
   ],
   "source": [
    "# upload les resultats sur huggingface\n",
    "push_to_hub(\n",
    "  model_id=model_checkpoint,  # model repository on hub\n",
    "  metric_value=float(results[\"rouge2\"]),                       # metric value\n",
    "  metric_type=\"rouge2\",                     # metric name, e.g. accuracy.name\n",
    "  metric_name=\"rouge2\",                     # pretty name which is displayed\n",
    "  dataset_type=\"newsroom\",                # dataset name on the hub\n",
    "  dataset_name=\"newsroom\",                # pretty name\n",
    "  dataset_split=\"test\",                   # dataset split used\n",
    "  task_type=\"summarization\",            # task id, see https://github.com/huggingface/datasets/blob/master/src/datasets/utils/resources/tasks.json\n",
    "  task_name=\"summarization\",             # pretty name for task\n",
    "  overwrite=True\n",
    ")"
   ]
  },
  {
   "cell_type": "code",
   "execution_count": 22,
   "metadata": {
    "execution": {
     "iopub.execute_input": "2023-05-18T15:38:34.934774Z",
     "iopub.status.busy": "2023-05-18T15:38:34.934480Z",
     "iopub.status.idle": "2023-05-18T15:38:36.080775Z",
     "shell.execute_reply": "2023-05-18T15:38:36.079849Z",
     "shell.execute_reply.started": "2023-05-18T15:38:34.934751Z"
    }
   },
   "outputs": [
    {
     "data": {
      "application/vnd.jupyter.widget-view+json": {
       "model_id": "b497bb182b9d49889ad62965eaa8edcd",
       "version_major": 2,
       "version_minor": 0
      },
      "text/plain": [
       "Downloading (…)solve/main/README.md:   0%|          | 0.00/5.44k [00:00<?, ?B/s]"
      ]
     },
     "metadata": {},
     "output_type": "display_data"
    },
    {
     "data": {
      "text/plain": [
       "'https://huggingface.co/Yahiael1/mymodel_final_v2/blob/main/README.md'"
      ]
     },
     "execution_count": 22,
     "metadata": {},
     "output_type": "execute_result"
    }
   ],
   "source": [
    "# upload les resultats sur huggingface\n",
    "push_to_hub(\n",
    "  model_id=model_checkpoint,  # model repository on hub\n",
    "  metric_value=float(results[\"rougeL\"]),                       # metric value\n",
    "  metric_type=\"rougeL\",                     # metric name, e.g. accuracy.name\n",
    "  metric_name=\"rougeL\",                     # pretty name which is displayed\n",
    "  dataset_type=\"newsroom\",                # dataset name on the hub\n",
    "  dataset_name=\"newsroom\",                # pretty name\n",
    "  dataset_split=\"test\",                   # dataset split used\n",
    "  task_type=\"summarization\",            # task id, see https://github.com/huggingface/datasets/blob/master/src/datasets/utils/resources/tasks.json\n",
    "  task_name=\"summarization\",             # pretty name for task\n",
    "  overwrite=True\n",
    ")"
   ]
  },
  {
   "cell_type": "code",
   "execution_count": 23,
   "metadata": {
    "execution": {
     "iopub.execute_input": "2023-05-18T15:38:36.083846Z",
     "iopub.status.busy": "2023-05-18T15:38:36.082166Z",
     "iopub.status.idle": "2023-05-18T15:38:37.473637Z",
     "shell.execute_reply": "2023-05-18T15:38:37.472200Z",
     "shell.execute_reply.started": "2023-05-18T15:38:36.083791Z"
    }
   },
   "outputs": [
    {
     "data": {
      "application/vnd.jupyter.widget-view+json": {
       "model_id": "bfee7e8b5d0b4c4388ca4e64760e3ed4",
       "version_major": 2,
       "version_minor": 0
      },
      "text/plain": [
       "Downloading (…)solve/main/README.md:   0%|          | 0.00/5.44k [00:00<?, ?B/s]"
      ]
     },
     "metadata": {},
     "output_type": "display_data"
    },
    {
     "data": {
      "text/plain": [
       "'https://huggingface.co/Yahiael1/mymodel_final_v2/blob/main/README.md'"
      ]
     },
     "execution_count": 23,
     "metadata": {},
     "output_type": "execute_result"
    }
   ],
   "source": [
    "# upload les resultats sur huggingface\n",
    "push_to_hub(\n",
    "  model_id=model_checkpoint,  # model repository on hub\n",
    "  metric_value=float(results[\"rougeLsum\"]),                       # metric value\n",
    "  metric_type=\"rougeLsum\",                     # metric name, e.g. accuracy.name\n",
    "  metric_name=\"rougeLsum\",                     # pretty name which is displayed\n",
    "  dataset_type=\"newsroom\",                # dataset name on the hub\n",
    "  dataset_name=\"newsroom\",                # pretty name\n",
    "  dataset_split=\"test\",                   # dataset split used\n",
    "  task_type=\"summarization\",            # task id, see https://github.com/huggingface/datasets/blob/master/src/datasets/utils/resources/tasks.json\n",
    "  task_name=\"summarization\",             # pretty name for task\n",
    "  overwrite=True\n",
    ")"
   ]
  }
 ],
 "metadata": {
  "kernelspec": {
   "display_name": "Python 3 (ipykernel)",
   "language": "python",
   "name": "python3"
  },
  "language_info": {
   "codemirror_mode": {
    "name": "ipython",
    "version": 3
   },
   "file_extension": ".py",
   "mimetype": "text/x-python",
   "name": "python",
   "nbconvert_exporter": "python",
   "pygments_lexer": "ipython3",
   "version": "3.9.6"
  }
 },
 "nbformat": 4,
 "nbformat_minor": 4
}
