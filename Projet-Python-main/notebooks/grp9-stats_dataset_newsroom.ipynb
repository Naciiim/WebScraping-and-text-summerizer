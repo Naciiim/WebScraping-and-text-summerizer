{
 "cells": [
  {
   "cell_type": "markdown",
   "metadata": {},
   "source": [
    "Pour telecharger la dataset, il faut demander un lien unique a travers ce formulaire: https://cornell.qualtrics.com/jfe/form/SV_6YA3HQ2p75XH4IR"
   ]
  },
  {
   "cell_type": "code",
   "execution_count": null,
   "metadata": {
    "colab": {
     "base_uri": "https://localhost:8080/"
    },
    "id": "x90jxwrBf3AN",
    "outputId": "24fa1e92-09b4-4fb2-8778-9df752f5efe1"
   },
   "outputs": [
    {
     "name": "stdout",
     "output_type": "stream",
     "text": [
      "--2023-04-21 03:35:25--  https://lil.nlp.cornell.edu/resources/newsroom/r8625bda324/newsroom-release.tar\n",
      "Resolving lil.nlp.cornell.edu (lil.nlp.cornell.edu)... 128.253.49.53\n",
      "Connecting to lil.nlp.cornell.edu (lil.nlp.cornell.edu)|128.253.49.53|:443... connected.\n",
      "HTTP request sent, awaiting response... 200 OK\n",
      "Length: 2634252800 (2.5G) [application/x-tar]\n",
      "Saving to: ‘newsroom-release.tar’\n",
      "\n",
      "newsroom-release.ta 100%[===================>]   2.45G  64.0MB/s    in 49s     \n",
      "\n",
      "2023-04-21 03:36:14 (51.7 MB/s) - ‘newsroom-release.tar’ saved [2634252800/2634252800]\n",
      "\n"
     ]
    }
   ],
   "source": [
    "! wget https://lil.nlp.cornell.edu/resources/newsroom/r8625bda324/newsroom-release.tar"
   ]
  },
  {
   "cell_type": "markdown",
   "metadata": {
    "id": "k-ORQPCImFVn"
   },
   "source": [
    "Extract the tar file"
   ]
  },
  {
   "cell_type": "code",
   "execution_count": null,
   "metadata": {
    "colab": {
     "base_uri": "https://localhost:8080/"
    },
    "id": "WRKhS_plf3Cb",
    "outputId": "b689f45b-3b4e-48af-f572-5ca82336bb4a"
   },
   "outputs": [
    {
     "name": "stdout",
     "output_type": "stream",
     "text": [
      "release/\n",
      "release/dev.jsonl.gz\n",
      "release/test.jsonl.gz\n",
      "release/train.jsonl.gz\n"
     ]
    }
   ],
   "source": [
    "! tar xvf /content/newsroom-release.tar"
   ]
  },
  {
   "cell_type": "markdown",
   "metadata": {
    "id": "IVyoJgAjmJQJ"
   },
   "source": [
    "Extract the gz partitions"
   ]
  },
  {
   "cell_type": "code",
   "execution_count": null,
   "metadata": {
    "id": "ZtTQLTVUkZOO"
   },
   "outputs": [],
   "source": [
    "!gzip -d release/test.jsonl.gz\n",
    "!gzip -d release/train.jsonl.gz\n",
    "!gzip -d release/dev.jsonl.gz"
   ]
  },
  {
   "cell_type": "markdown",
   "metadata": {
    "id": "nkSlXt_3m6Rv"
   },
   "source": [
    "load wanted dataset split in a pandas dataframe\n",
    "\n",
    " ** limit nrows to match your ram*\n",
    "\n",
    "*** use lines=True because file is 'jsonl' not 'json'*\n"
   ]
  },
  {
   "cell_type": "code",
   "execution_count": null,
   "metadata": {
    "id": "Fv8wNuNYlEy8"
   },
   "outputs": [],
   "source": [
    "import pandas as pd\n",
    "df = pd.read_json(r'release/train.jsonl', lines=True, nrows=10000,keep_default_dates=False)\n",
    "# keep_default_dates because pandas think date column is in unix timestamp format"
   ]
  },
  {
   "cell_type": "code",
   "execution_count": null,
   "metadata": {
    "id": "0ebMg8_w32zX"
   },
   "outputs": [],
   "source": [
    "# format: yearmonthdayhourminutesecond\n",
    "#df['date'] = pd.to_datetime(df['date'], format = \"%Y%m%d%H%M%S\")"
   ]
  },
  {
   "cell_type": "code",
   "execution_count": null,
   "metadata": {
    "colab": {
     "base_uri": "https://localhost:8080/"
    },
    "id": "FE0dlsuc16XO",
    "outputId": "d3adfc76-d4db-4c0d-a3d4-cc43e3a349a8"
   },
   "outputs": [
    {
     "data": {
      "text/plain": [
       "(100000, 12)"
      ]
     },
     "execution_count": 6,
     "metadata": {},
     "output_type": "execute_result"
    }
   ],
   "source": [
    "df.shape"
   ]
  },
  {
   "cell_type": "code",
   "execution_count": null,
   "metadata": {
    "colab": {
     "base_uri": "https://localhost:8080/",
     "height": 8809
    },
    "id": "usRBjNHlChdI",
    "outputId": "ffc7ac6f-59de-460b-fec7-ed4b9a463c47"
   },
   "outputs": [
    {
     "data": {
      "application/vnd.google.colaboratory.module+javascript": "\n      import \"https://ssl.gstatic.com/colaboratory/data_table/99dac6621f6ae8c4/data_table.js\";\n\n      window.createDataTable({\n        data: [[{\n            'v': 4084,\n            'f': \"4084\",\n        },\n\"http://www.foxsports.com/baseball/xchange/teamnote/xch_pit.sml\",\n\"http://web.archive.org/web/19980117162142id_/http://www.foxsports.com:80/baseball/xchange/teamnote/xch_pit.sml\",\n\"Pro Sports Xchange notes\",\n{\n            'v': 19980117162142,\n            'f': \"19980117162142\",\n        },\n\"In the Pittsburgh Pirates' case, the dream could become a reality for fans. The Pirates are strongly considering a plan in which it would offer shares of stock in the club to the public.\\n\\nMajor League Baseball's ruling Executive Council gave permission for clubs to sell public shares last summer. So far, no team has taken that action but the Pirates could become the first.\\n\\nOther major professional sports leagues allow teams to offer stock. So far, it's the Green Bay Packers, the NBA's Boston Celtics and NHL's Florida Panthers.\\n\\nWhen asked about the idea of offering public stock following the Executive Council's ruling last year, Pirates Chief Executive Officer Kevin McClatchy said it was doubtful his club would go through with such a plan.\\n\\nMcClatchy, though, now acknowledges the Pirates are considering the plan but said only \\\"it's in the exploratory states.\\\"\\n\\nHowever, club sources say McClatchy believes the Pirates could generate as much as $45 million through the sale of stock.\\n\\nSources also say McClatchy's plan is unrelated to the Pirates' effort of securing funding for a baseball-only stadium in Pittsburgh. In November, southwestern Pennsylvania voters overwhelming rejected a proposed sales tax that would have funded new stadiums for the Pirates and NFL's Steelers along with other projects.\\n\\n\\\"Going public is more a move to reduce some of the club's debt than anything,\\\" one source said. \\\"It would generate revenue independent of any stadium. Kevin thinks it would be a good novelty item, something that would get the fans involved while adding some revenue.\\\"\\n\\nMcClatchy led a group that purchased the Pirates for $95 million on Feb. 14, 1995 from a public-private consortium of 12 owners.\\n\\nWhile McClatchy claimed to have lost in excess of $10 million in '96, the Pirates figured to turn a profit in 1997 after finishing second in the National League Central despite having the smallest payroll in baseball. The Pirates' payroll was $9 million at the start of last season before growing to $12 million by the end of the year\\n\\nThe Packers were the first to try selling shares to the public, beginning in 1950 when the organization sold about 2,000 shares to raise $116,000 to keep the team in Green Bay. Each share sold for $25, and a stockholder could hold no more than 200 shares.\\n\\nThe shares, however, were not publicly traded, so they never increased in value. They also could not be redeemed, meaning the only value they have to stockholders is sentimental.\\n\\nShares in the Celtics and Panthers are actively traded on the New York Stock Exchange and fluctuate in value, like any other stock.\\n\\nWhile the Pirates ponder their stock options, they have come up with a more tried and true way of generative more revenue. They have raised ticket prices at Three Rivers Stadium for only the second time in seven years.\\n\\nThe price of first-level club boxes, which will now be known as field boxes, will be $17, a $2 increase. Second-level club boxes will go up $1 to $16. Terrace boxes on the fourth and fifth levels will also increase $1 to $11.\\n\\nPrices for the remaining 27,871 seats remain the same: $10 for family boxes, $8 for reserved, $5 for general admission and $1 for youth general admission.\\n\\nThe Pirates' average ticket price is $9.67, making them just one of four teams in the major leagues under $10.\\n\\nNOTES, QUOTES, ANECDOTES The Pirates signed seven minor-league free agents last Wednesday (Jan. 7), including former San Francisco Giants reliever Steve Mintz.\\n\\nMintz, 29, was 5-2 with an 8.05 ERA in 27 relief appearances for San Diego's Triple-A Las Vegas farm club last year. He pitched in 14 games with San Francisco in 1995, going 1-2 with a 7.45 ERA.\\n\\nAlso signed were left-handers Kevin Tolar and Scott Wiegandt, right-hander Todd Bussa, first basemen Kevin Grijak and Dave Kennedy and outfielder Phil Geisler. None have played in the major leagues.\\n\\nTolar, 26, was 1-1 with a 5.12 ERA in 22 games with the New York Mets' Double-A Binghamton farm club last season and 0-0 with a 2.03 ERA in nine games with Single-A St. Lucie.\\n\\nWiegandt, 30, was 1-3 with a 4.45 ERA in 40 games, three starts, with St. Louis' Triple-A Louisville farm club last season.\\n\\nBussa, 25, was 5-4 with a 1.75 ERA in 30 games with Oakland's Single-A Modesto farm club last season and 2-1 with a 4.22 ERA in 19 games with Double-A Huntsville.\\n\\nGrijak, 24, hit .250 with 13 homers and 48 RBIs in 72 games with Atlanta's Double-A Greenville farm club last season.\\n\\nKennedy, 27, played for St. Paul in the independent Northern League last season and hit .293 with 19 homers and 80 RBIs in 92 games.\\n\\nGeisler, 28, hit .256 with nine homers and 57 RBIs in 109 games with the Mets' Triple-A Norfolk last season.\\n\\nThe Pirates began their three-week promotional winter caravan on Monday (Jan. 12). It will continue through Jan. 30. Manager Gene Lamont will participate in part of the tour along with left-hander Jason Christiansen, right-hander Rich Loiselle, catchers Jason Kendall and Keith Osik, second baseman Tony Womack, shortstop Kevin Polcovich and outfielder Emil Brown.\\n\\nThe caravan will make stops in Washington, Uniontown, Connellsville, Punxsutawney, DuBois, Clearfield, Greensburg, Latrobe, Altoona, Johnson, Indiana, Somerset, Clarion, Erie, Beaver, New Castle, Franklin and Butler in Pennsylvania; Cambridge and Youngstown in Ohio and Wheeling, New Martinsville, Morgantown, Fairmont and Weirton in West Virginia.\\n\\nROSTER REPORT FREE AGENCY UPDATE -- Shortstop Shawon Dunston (not offered salary arbitration), shortstop Kevin Elster (signed with the Rangers), infielder Dale Sveum (signed with the Yankees).\\n\\nMEDICAL WATCH -- Right-handed pitcher Esteban Loaiza (recovering from arthroscopic surgery to remove bone chips from right ankle), second baseman Tony Womack (recovering from arthroscopic surgery to remove to have bone chips removed from left knee).\\n\\nWINTER WATCH --- Well-traveled outfielder Darryl Brinkley at least put himself in the Pirates' consciousness with a fine winter season for Mexicali in the Mexican Pacific League. The 28-year-old hit .284 with 11 homers and 27 RBIs in 59 games. He led the league in runs (46), tied for first in hits (67), tied for second in homers (11) and tied for third in steals. The Pirates acquire Brinkley from San Diego's Double-A Mobile farm club midway through last season and assigned him to the Mexico City Reds of the Mexican League.\",\n\"PITTSBURGH PIRATES team notebook\",\n{\n            'v': 336.0,\n            'f': \"336.0\",\n        },\n{\n            'v': 0.75,\n            'f': \"0.75\",\n        },\n{\n            'v': 1.25,\n            'f': \"1.25\",\n        },\n\"high\",\n\"low\",\n\"abstractive\"]],\n        columns: [[\"number\", \"index\"], [\"string\", \"url\"], [\"string\", \"archive\"], [\"string\", \"title\"], [\"number\", \"date\"], [\"string\", \"text\"], [\"string\", \"summary\"], [\"number\", \"compression\"], [\"number\", \"coverage\"], [\"number\", \"density\"], [\"string\", \"compression_bin\"], [\"string\", \"coverage_bin\"], [\"string\", \"density_bin\"]],\n        columnOptions: [{\"width\": \"1px\", \"className\": \"index_column\"}],\n        rowsPerPage: 25,\n        helpUrl: \"https://colab.research.google.com/notebooks/data_table.ipynb\",\n        suppressOutputScrolling: true,\n        minimumWidth: undefined,\n      });\n    ",
      "text/html": [
       "\n",
       "  <div id=\"df-894c6bf0-e2eb-4805-a9d5-fda902aa8e9c\">\n",
       "    <div class=\"colab-df-container\">\n",
       "      <div>\n",
       "<style scoped>\n",
       "    .dataframe tbody tr th:only-of-type {\n",
       "        vertical-align: middle;\n",
       "    }\n",
       "\n",
       "    .dataframe tbody tr th {\n",
       "        vertical-align: top;\n",
       "    }\n",
       "\n",
       "    .dataframe thead th {\n",
       "        text-align: right;\n",
       "    }\n",
       "</style>\n",
       "<table border=\"1\" class=\"dataframe\">\n",
       "  <thead>\n",
       "    <tr style=\"text-align: right;\">\n",
       "      <th></th>\n",
       "      <th>url</th>\n",
       "      <th>archive</th>\n",
       "      <th>title</th>\n",
       "      <th>date</th>\n",
       "      <th>text</th>\n",
       "      <th>summary</th>\n",
       "      <th>compression</th>\n",
       "      <th>coverage</th>\n",
       "      <th>density</th>\n",
       "      <th>compression_bin</th>\n",
       "      <th>coverage_bin</th>\n",
       "      <th>density_bin</th>\n",
       "    </tr>\n",
       "  </thead>\n",
       "  <tbody>\n",
       "    <tr>\n",
       "      <th>4084</th>\n",
       "      <td>http://www.foxsports.com/baseball/xchange/team...</td>\n",
       "      <td>http://web.archive.org/web/19980117162142id_/h...</td>\n",
       "      <td>Pro Sports Xchange notes</td>\n",
       "      <td>19980117162142</td>\n",
       "      <td>In the Pittsburgh Pirates' case, the dream cou...</td>\n",
       "      <td>PITTSBURGH PIRATES team notebook</td>\n",
       "      <td>336.0</td>\n",
       "      <td>0.75</td>\n",
       "      <td>1.25</td>\n",
       "      <td>high</td>\n",
       "      <td>low</td>\n",
       "      <td>abstractive</td>\n",
       "    </tr>\n",
       "  </tbody>\n",
       "</table>\n",
       "</div>\n",
       "      <button class=\"colab-df-convert\" onclick=\"convertToInteractive('df-894c6bf0-e2eb-4805-a9d5-fda902aa8e9c')\"\n",
       "              title=\"Convert this dataframe to an interactive table.\"\n",
       "              style=\"display:none;\">\n",
       "        \n",
       "  <svg xmlns=\"http://www.w3.org/2000/svg\" height=\"24px\"viewBox=\"0 0 24 24\"\n",
       "       width=\"24px\">\n",
       "    <path d=\"M0 0h24v24H0V0z\" fill=\"none\"/>\n",
       "    <path d=\"M18.56 5.44l.94 2.06.94-2.06 2.06-.94-2.06-.94-.94-2.06-.94 2.06-2.06.94zm-11 1L8.5 8.5l.94-2.06 2.06-.94-2.06-.94L8.5 2.5l-.94 2.06-2.06.94zm10 10l.94 2.06.94-2.06 2.06-.94-2.06-.94-.94-2.06-.94 2.06-2.06.94z\"/><path d=\"M17.41 7.96l-1.37-1.37c-.4-.4-.92-.59-1.43-.59-.52 0-1.04.2-1.43.59L10.3 9.45l-7.72 7.72c-.78.78-.78 2.05 0 2.83L4 21.41c.39.39.9.59 1.41.59.51 0 1.02-.2 1.41-.59l7.78-7.78 2.81-2.81c.8-.78.8-2.07 0-2.86zM5.41 20L4 18.59l7.72-7.72 1.47 1.35L5.41 20z\"/>\n",
       "  </svg>\n",
       "      </button>\n",
       "      \n",
       "  <style>\n",
       "    .colab-df-container {\n",
       "      display:flex;\n",
       "      flex-wrap:wrap;\n",
       "      gap: 12px;\n",
       "    }\n",
       "\n",
       "    .colab-df-convert {\n",
       "      background-color: #E8F0FE;\n",
       "      border: none;\n",
       "      border-radius: 50%;\n",
       "      cursor: pointer;\n",
       "      display: none;\n",
       "      fill: #1967D2;\n",
       "      height: 32px;\n",
       "      padding: 0 0 0 0;\n",
       "      width: 32px;\n",
       "    }\n",
       "\n",
       "    .colab-df-convert:hover {\n",
       "      background-color: #E2EBFA;\n",
       "      box-shadow: 0px 1px 2px rgba(60, 64, 67, 0.3), 0px 1px 3px 1px rgba(60, 64, 67, 0.15);\n",
       "      fill: #174EA6;\n",
       "    }\n",
       "\n",
       "    [theme=dark] .colab-df-convert {\n",
       "      background-color: #3B4455;\n",
       "      fill: #D2E3FC;\n",
       "    }\n",
       "\n",
       "    [theme=dark] .colab-df-convert:hover {\n",
       "      background-color: #434B5C;\n",
       "      box-shadow: 0px 1px 3px 1px rgba(0, 0, 0, 0.15);\n",
       "      filter: drop-shadow(0px 1px 2px rgba(0, 0, 0, 0.3));\n",
       "      fill: #FFFFFF;\n",
       "    }\n",
       "  </style>\n",
       "\n",
       "      <script>\n",
       "        const buttonEl =\n",
       "          document.querySelector('#df-894c6bf0-e2eb-4805-a9d5-fda902aa8e9c button.colab-df-convert');\n",
       "        buttonEl.style.display =\n",
       "          google.colab.kernel.accessAllowed ? 'block' : 'none';\n",
       "\n",
       "        async function convertToInteractive(key) {\n",
       "          const element = document.querySelector('#df-894c6bf0-e2eb-4805-a9d5-fda902aa8e9c');\n",
       "          const dataTable =\n",
       "            await google.colab.kernel.invokeFunction('convertToInteractive',\n",
       "                                                     [key], {});\n",
       "          if (!dataTable) return;\n",
       "\n",
       "          const docLinkHtml = 'Like what you see? Visit the ' +\n",
       "            '<a target=\"_blank\" href=https://colab.research.google.com/notebooks/data_table.ipynb>data table notebook</a>'\n",
       "            + ' to learn more about interactive tables.';\n",
       "          element.innerHTML = '';\n",
       "          dataTable['output_type'] = 'display_data';\n",
       "          await google.colab.output.renderOutput(dataTable, element);\n",
       "          const docLink = document.createElement('div');\n",
       "          docLink.innerHTML = docLinkHtml;\n",
       "          element.appendChild(docLink);\n",
       "        }\n",
       "      </script>\n",
       "    </div>\n",
       "  </div>\n",
       "  "
      ],
      "text/plain": [
       "                                                    url  \\\n",
       "4084  http://www.foxsports.com/baseball/xchange/team...   \n",
       "\n",
       "                                                archive  \\\n",
       "4084  http://web.archive.org/web/19980117162142id_/h...   \n",
       "\n",
       "                         title            date  \\\n",
       "4084  Pro Sports Xchange notes  19980117162142   \n",
       "\n",
       "                                                   text  \\\n",
       "4084  In the Pittsburgh Pirates' case, the dream cou...   \n",
       "\n",
       "                               summary  compression  coverage  density  \\\n",
       "4084  PITTSBURGH PIRATES team notebook        336.0      0.75     1.25   \n",
       "\n",
       "     compression_bin coverage_bin  density_bin  \n",
       "4084            high          low  abstractive  "
      ]
     },
     "execution_count": 19,
     "metadata": {},
     "output_type": "execute_result"
    }
   ],
   "source": [
    "sorted_df = df.sort_values('date', ascending=True)\n",
    "# pretty printing\n",
    "from google.colab import data_table\n",
    "data_table.enable_dataframe_formatter()\n",
    "\n",
    "sorted_df.head(1)"
   ]
  },
  {
   "cell_type": "code",
   "execution_count": null,
   "metadata": {
    "id": "ClLV9Be1ChEd"
   },
   "outputs": [],
   "source": [
    "# Python3 program to count words\n",
    "# in a given string\n",
    "OUT = 0\n",
    "IN = 1\n",
    "\n",
    "# Returns number of words in string\n",
    "def countWords(string):\n",
    "    state = OUT\n",
    "    wc = 0\n",
    "\n",
    "    # Scan all characters one by one\n",
    "    for i in range(len(string)):\n",
    "\n",
    "        # If next character is a separator,\n",
    "        # set the state as OUT\n",
    "        if (string[i] == ' ' or string[i] == '\\n' or\n",
    "            string[i] == '\\t'):\n",
    "            state = OUT\n",
    "\n",
    "        # If next character is not a word\n",
    "        # separator and state is OUT, then\n",
    "        # set the state as IN and increment\n",
    "        # word count\n",
    "        elif state == OUT:\n",
    "            state = IN\n",
    "            wc += 1\n",
    "\n",
    "    # Return the number of words\n",
    "    return wc\n",
    "# This code is contributed by BHAVYA JAIN\n"
   ]
  },
  {
   "cell_type": "code",
   "execution_count": null,
   "metadata": {
    "id": "4_BCNdbFAeDA"
   },
   "outputs": [],
   "source": [
    "# calculer nbre de mots\n",
    "count_text = df['text'].apply(countWords)\n",
    "count_sum = df['summary'].apply(countWords)"
   ]
  },
  {
   "cell_type": "code",
   "execution_count": null,
   "metadata": {
    "id": "OgbP06xVO7Mp"
   },
   "outputs": [],
   "source": [
    "import re\n",
    "\n",
    "punct_chars = ['!', '.', '?', '։', '؟', '۔', '܀', '܁', '܂', '߹',\n",
    "            '।', '॥', '၊', '။', '።', '፧', '፨', '᙮', '᠃', '᠉', '᱾', '᱿',\n",
    "            '‼', '‽', '⁇', '⁈', '⁉', '⸮', '⸼', '꓿', '꘎', '꘏','꡶',\n",
    "            '꡷','﹖', '﹗', '！', '．', '？', '𐩖', '𐩗', '𑁇', '𑁈','｡', '。']\n",
    "pattern = '|'.join(map(re.escape, punct_chars))\n",
    "\n",
    "def count_sent(text): # pour calculer nbre de phrases\n",
    "  return len(re.split(pattern, text))-1"
   ]
  },
  {
   "cell_type": "code",
   "execution_count": null,
   "metadata": {
    "colab": {
     "base_uri": "https://localhost:8080/"
    },
    "id": "VWLNmG3sc3an",
    "outputId": "aa73bcae-e7e4-4995-b900-d11f32488633"
   },
   "outputs": [
    {
     "name": "stdout",
     "output_type": "stream",
     "text": [
      "(10000,)\n",
      "(10000,)\n"
     ]
    }
   ],
   "source": [
    "# calcul du nbre de phrases\n",
    "text_sent_no = df['text'].apply(count_sent)\n",
    "sum_sent_no = df['summary'].apply(count_sent)"
   ]
  },
  {
   "cell_type": "code",
   "execution_count": null,
   "metadata": {
    "colab": {
     "base_uri": "https://localhost:8080/",
     "height": 7011
    },
    "id": "sRrFhNwJDgGZ",
    "outputId": "f33289ba-7176-4908-c405-7457c44c843f"
   },
   "outputs": [
    {
     "name": "stdout",
     "output_type": "stream",
     "text": [
      "----- First 100k articles and summaries from dev: -----\n",
      "Avg. article length (words) 551.2604\n",
      "Avg. summary length (words):  33.9256\n",
      "Avg. article length (sentences) 32.3397\n",
      "Avg. summary length (sentences):  1.8956\n"
     ]
    },
    {
     "data": {
      "application/vnd.google.colaboratory.module+javascript": "\n      import \"https://ssl.gstatic.com/colaboratory/data_table/99dac6621f6ae8c4/data_table.js\";\n\n      window.createDataTable({\n        data: [[{\n            'v': 0,\n            'f': \"0\",\n        },\n\"http://www.foxsports.com/baseball/xchange/teamnote/xch_sdg.sml\",\n\"http://web.archive.org/web/19980117162148id_/http://www.foxsports.com:80/baseball/xchange/teamnote/xch_sdg.sml\",\n\"Pro Sports Xchange notes\",\n{\n            'v': 19980117162148,\n            'f': \"19980117162148\",\n        },\n\"So sayeth Padre general manager Kevin Towers.\\n\\nLess than two weeks after unofficially setting his starting rotation by trading for No. 1 Kevin Brown and re-signing No. 5 Pete Smith, Towers stirred the pot Jan. 7 by signing Mark Langston to a minor league contract.\\n\\nBut the Padres have no intention of having Langston pitch at Triple-A Las Vegas. And neither does the 37-year-old left-hander.\\n\\n\\\"We didn't get him to pitch at Las Vegas,\\\" said GM Kevin Towers emphatically. \\\"If Mark is back to full health, he's going to go for one of the spots in the starting rotation.\\\"\\n\\nThere's the rub. Langston had elbow and knee problems last year and made only one start (Aug. 20) after undergoing arthroscopic surgery in May to have bone spurs removed from his left elbow.\\n\\nIt was his second round of elbow surgery in four seasons.\\n\\nHowever, the Padres hit the jackpot once before with a over-the-hill left-hander. Fernando Valenzuela was 13-8 with a 3.62 ERA in '96 and helped pitch the Padres to the N.L. West title.\\n\\nLangston thinks it will. And Towers said it's not that big a gamble.\\n\\n\\\"Right now, we're very happy with the rotation we have,\\\" said Towers of the Brown, Andy Ashby, Joey Hamilton, Sterling Hitchcock and Smith quintet.\\n\\n\\\"But you never know about pitching. Something can happen and usually does. I like insurance.\\\"\\n\\nLangston has a career 174-150 record with a 3.88 ERA. He is a four-time All-Star and was Anaheim's opening day starter last April.\\n\\nAnd a year after his 1994 surgery, Langston bounced back with a 15-7 record with a 4.63 ERA.\\n\\nLangston said his arm is sound and said he shouldn't have tried to return last year.\\n\\n\\\"I simply tried to come back too soon last year,\\\" he said. \\\"The Angels were in a pennant race and short on starting pitchers. So I tried to help out and it was a mistake. I was advised by the doctors not to do it.\\n\\n\\\"But the arm feels good. I've been playing long toss for a month with no problems. I see myself winning one of those starting spots in San Diego. And I believe we have the makings of being a contender. If I'm healthy, I will enhance this team.\\\"\\n\\nThe Angels did not offer Langston a contract after last season (2-4, 5.65 ERA). Langston said he had better offers elsewhere, but chose to remain as close as possible to his Anaheim Hills home in Southern California.\\n\\n\\\"I see no downside to signing Mark,\\\" said Padre manager Bruce Bochy. \\\"It's definitely worth taking a look for us. He certainly knows how to pitch.\\\"\\n\\nTowers said the addition of Brown and Langston might also help Ashby and Hamilton mature into better pitchers.\\n\\n\\\"We've now got three guys here (Brown, Langston and pitching coach Dave Stewart) who have pitched at the highest levels of competition. I think it will do a world of good for our other pitchers to watch how these guys go about their business.\\\"\\n\\nLangston has played only one season in the N.L., going 12-9 with a 2.38 in Montreal over two-thirds of the '89 season.\\n\\nNOTES, QUOTES, ANECDOTES The Padres signed 2B/leadoff man Quilvio Veras to a two-year contract worth $3.1 million. Veras, who turns 27 April 3, will make $1.1 million this season and $2 in 1998. The switch-hitter struggled early last year while sharing the leadoff job with Rickey Henderson, but batted .293 over the last 100 games. But he needs to reduce his 84 strikeouts, draw more than 72 walks and hit better than .194 from the right side.\\n\\nIt's official. Native San Diegan 1B Eddie Williams is back for a third fling as a Padre, although Williams will be playing in Las Vegas as an insurance policy against Wally Joyner being hurt. Williams, who signed a minor league contract, hit .240 with three homers and 12 RBI in 38 games with the Dodgers and Pirates last season.\\n\\nPut Greg Vaughn ahead of Ruben Rivera in the Padre left field derby. Rivera has been hovering around .200 in the Dominican Republic Winter League after missing much of the campaign with a broken finger. Over the last year, Rivera has had less than 100 at bats. \\\"I don't care what he hits, but Ruben needed more swings,\\\" said Towers.\\n\\nROSTER REPORT FREE AGENCY UPDATE -- Signed catcher Greg Myers (Braves), catcher Carlos Hernandez (re-signed), signed infielder Craig Shipley (allowed to become free-agent), right-handed pitcher Pete Smith (re-signed), left-handed pitcher Mark Langston (Angels, signed to minor-league contract).\\n\\nMEDICAL WATCH -- Left fielder Greg Vaughn (recovering from right knee surgery), third baseman Ken Caminiti (recovering from right knee surgery), first baseman Wally Joyner (recovering from right knee surgery), center fielder Steve Finley (recovering from big toe surgery), right fielder Tony Gwynn (recovering from left knee surgery), outfielder Ruben Rivera (recovering from a broken left finger).\",\n\"SAN DIEGO PADRES team notebook\",\n{\n            'v': 209.0,\n            'f': \"209.0\",\n        },\n{\n            'v': 0.8,\n            'f': \"0.8\",\n        },\n{\n            'v': 1.2,\n            'f': \"1.2\",\n        },\n\"high\",\n\"medium\",\n\"abstractive\"]],\n        columns: [[\"number\", \"index\"], [\"string\", \"url\"], [\"string\", \"archive\"], [\"string\", \"title\"], [\"number\", \"date\"], [\"string\", \"text\"], [\"string\", \"summary\"], [\"number\", \"compression\"], [\"number\", \"coverage\"], [\"number\", \"density\"], [\"string\", \"compression_bin\"], [\"string\", \"coverage_bin\"], [\"string\", \"density_bin\"]],\n        columnOptions: [{\"width\": \"1px\", \"className\": \"index_column\"}],\n        rowsPerPage: 25,\n        helpUrl: \"https://colab.research.google.com/notebooks/data_table.ipynb\",\n        suppressOutputScrolling: true,\n        minimumWidth: undefined,\n      });\n    ",
      "text/html": [
       "\n",
       "  <div id=\"df-14c00d52-5c55-495c-bdcf-1c08dd384759\">\n",
       "    <div class=\"colab-df-container\">\n",
       "      <div>\n",
       "<style scoped>\n",
       "    .dataframe tbody tr th:only-of-type {\n",
       "        vertical-align: middle;\n",
       "    }\n",
       "\n",
       "    .dataframe tbody tr th {\n",
       "        vertical-align: top;\n",
       "    }\n",
       "\n",
       "    .dataframe thead th {\n",
       "        text-align: right;\n",
       "    }\n",
       "</style>\n",
       "<table border=\"1\" class=\"dataframe\">\n",
       "  <thead>\n",
       "    <tr style=\"text-align: right;\">\n",
       "      <th></th>\n",
       "      <th>url</th>\n",
       "      <th>archive</th>\n",
       "      <th>title</th>\n",
       "      <th>date</th>\n",
       "      <th>text</th>\n",
       "      <th>summary</th>\n",
       "      <th>compression</th>\n",
       "      <th>coverage</th>\n",
       "      <th>density</th>\n",
       "      <th>compression_bin</th>\n",
       "      <th>coverage_bin</th>\n",
       "      <th>density_bin</th>\n",
       "    </tr>\n",
       "  </thead>\n",
       "  <tbody>\n",
       "    <tr>\n",
       "      <th>0</th>\n",
       "      <td>http://www.foxsports.com/baseball/xchange/team...</td>\n",
       "      <td>http://web.archive.org/web/19980117162148id_/h...</td>\n",
       "      <td>Pro Sports Xchange notes</td>\n",
       "      <td>19980117162148</td>\n",
       "      <td>So sayeth Padre general manager Kevin Towers.\\...</td>\n",
       "      <td>SAN DIEGO PADRES team notebook</td>\n",
       "      <td>209.0</td>\n",
       "      <td>0.8</td>\n",
       "      <td>1.2</td>\n",
       "      <td>high</td>\n",
       "      <td>medium</td>\n",
       "      <td>abstractive</td>\n",
       "    </tr>\n",
       "  </tbody>\n",
       "</table>\n",
       "</div>\n",
       "      <button class=\"colab-df-convert\" onclick=\"convertToInteractive('df-14c00d52-5c55-495c-bdcf-1c08dd384759')\"\n",
       "              title=\"Convert this dataframe to an interactive table.\"\n",
       "              style=\"display:none;\">\n",
       "        \n",
       "  <svg xmlns=\"http://www.w3.org/2000/svg\" height=\"24px\"viewBox=\"0 0 24 24\"\n",
       "       width=\"24px\">\n",
       "    <path d=\"M0 0h24v24H0V0z\" fill=\"none\"/>\n",
       "    <path d=\"M18.56 5.44l.94 2.06.94-2.06 2.06-.94-2.06-.94-.94-2.06-.94 2.06-2.06.94zm-11 1L8.5 8.5l.94-2.06 2.06-.94-2.06-.94L8.5 2.5l-.94 2.06-2.06.94zm10 10l.94 2.06.94-2.06 2.06-.94-2.06-.94-.94-2.06-.94 2.06-2.06.94z\"/><path d=\"M17.41 7.96l-1.37-1.37c-.4-.4-.92-.59-1.43-.59-.52 0-1.04.2-1.43.59L10.3 9.45l-7.72 7.72c-.78.78-.78 2.05 0 2.83L4 21.41c.39.39.9.59 1.41.59.51 0 1.02-.2 1.41-.59l7.78-7.78 2.81-2.81c.8-.78.8-2.07 0-2.86zM5.41 20L4 18.59l7.72-7.72 1.47 1.35L5.41 20z\"/>\n",
       "  </svg>\n",
       "      </button>\n",
       "      \n",
       "  <style>\n",
       "    .colab-df-container {\n",
       "      display:flex;\n",
       "      flex-wrap:wrap;\n",
       "      gap: 12px;\n",
       "    }\n",
       "\n",
       "    .colab-df-convert {\n",
       "      background-color: #E8F0FE;\n",
       "      border: none;\n",
       "      border-radius: 50%;\n",
       "      cursor: pointer;\n",
       "      display: none;\n",
       "      fill: #1967D2;\n",
       "      height: 32px;\n",
       "      padding: 0 0 0 0;\n",
       "      width: 32px;\n",
       "    }\n",
       "\n",
       "    .colab-df-convert:hover {\n",
       "      background-color: #E2EBFA;\n",
       "      box-shadow: 0px 1px 2px rgba(60, 64, 67, 0.3), 0px 1px 3px 1px rgba(60, 64, 67, 0.15);\n",
       "      fill: #174EA6;\n",
       "    }\n",
       "\n",
       "    [theme=dark] .colab-df-convert {\n",
       "      background-color: #3B4455;\n",
       "      fill: #D2E3FC;\n",
       "    }\n",
       "\n",
       "    [theme=dark] .colab-df-convert:hover {\n",
       "      background-color: #434B5C;\n",
       "      box-shadow: 0px 1px 3px 1px rgba(0, 0, 0, 0.15);\n",
       "      filter: drop-shadow(0px 1px 2px rgba(0, 0, 0, 0.3));\n",
       "      fill: #FFFFFF;\n",
       "    }\n",
       "  </style>\n",
       "\n",
       "      <script>\n",
       "        const buttonEl =\n",
       "          document.querySelector('#df-14c00d52-5c55-495c-bdcf-1c08dd384759 button.colab-df-convert');\n",
       "        buttonEl.style.display =\n",
       "          google.colab.kernel.accessAllowed ? 'block' : 'none';\n",
       "\n",
       "        async function convertToInteractive(key) {\n",
       "          const element = document.querySelector('#df-14c00d52-5c55-495c-bdcf-1c08dd384759');\n",
       "          const dataTable =\n",
       "            await google.colab.kernel.invokeFunction('convertToInteractive',\n",
       "                                                     [key], {});\n",
       "          if (!dataTable) return;\n",
       "\n",
       "          const docLinkHtml = 'Like what you see? Visit the ' +\n",
       "            '<a target=\"_blank\" href=https://colab.research.google.com/notebooks/data_table.ipynb>data table notebook</a>'\n",
       "            + ' to learn more about interactive tables.';\n",
       "          element.innerHTML = '';\n",
       "          dataTable['output_type'] = 'display_data';\n",
       "          await google.colab.output.renderOutput(dataTable, element);\n",
       "          const docLink = document.createElement('div');\n",
       "          docLink.innerHTML = docLinkHtml;\n",
       "          element.appendChild(docLink);\n",
       "        }\n",
       "      </script>\n",
       "    </div>\n",
       "  </div>\n",
       "  "
      ],
      "text/plain": [
       "                                                 url  \\\n",
       "0  http://www.foxsports.com/baseball/xchange/team...   \n",
       "\n",
       "                                             archive  \\\n",
       "0  http://web.archive.org/web/19980117162148id_/h...   \n",
       "\n",
       "                      title            date  \\\n",
       "0  Pro Sports Xchange notes  19980117162148   \n",
       "\n",
       "                                                text  \\\n",
       "0  So sayeth Padre general manager Kevin Towers.\\...   \n",
       "\n",
       "                          summary  compression  coverage  density  \\\n",
       "0  SAN DIEGO PADRES team notebook        209.0       0.8      1.2   \n",
       "\n",
       "  compression_bin coverage_bin  density_bin  \n",
       "0            high       medium  abstractive  "
      ]
     },
     "execution_count": 17,
     "metadata": {},
     "output_type": "execute_result"
    }
   ],
   "source": [
    "print(\"----- First 100k articles and summaries from dev: -----\")\n",
    "print(\"Avg. article length (words)\",count_text.mean())\n",
    "print(\"Avg. summary length (words): \",count_sum.mean())\n",
    "print(\"Avg. article length (sentences)\",text_sent_no.mean())\n",
    "print(\"Avg. summary length (sentences): \",sum_sent_no.mean())\n",
    "df.head(1)"
   ]
  }
 ],
 "metadata": {
  "accelerator": "GPU",
  "colab": {
   "provenance": []
  },
  "gpuClass": "standard",
  "kernelspec": {
   "display_name": "Python 3 (ipykernel)",
   "language": "python",
   "name": "python3"
  },
  "language_info": {
   "codemirror_mode": {
    "name": "ipython",
    "version": 3
   },
   "file_extension": ".py",
   "mimetype": "text/x-python",
   "name": "python",
   "nbconvert_exporter": "python",
   "pygments_lexer": "ipython3",
   "version": "3.9.6"
  }
 },
 "nbformat": 4,
 "nbformat_minor": 1
}
